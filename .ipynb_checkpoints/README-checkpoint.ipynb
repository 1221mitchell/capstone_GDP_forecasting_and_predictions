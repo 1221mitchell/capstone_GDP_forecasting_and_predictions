{
 "cells": [
  {
   "cell_type": "markdown",
   "metadata": {},
   "source": [
    "**Guiding question**: \n",
    "\n",
    "How accurately can I predict GDP of a country, without knowing the country name, based solely on political, environmental, financial, and health data? For the USA, how accurately can I forecast GDP by percent change and GDP in dollars?\n",
    "\n"
   ]
  },
  {
   "cell_type": "markdown",
   "metadata": {},
   "source": [
    "**Data Cleaning and EDA**\n",
    "\n",
    "I downloaded a 16,000 row dataset from the World Bank with metrics for every country on political, environmental, financial, and health data each year since 1960. This dataset was filled with an excessive amount of null values. I cleaned and organized the data into 4 new datasets, each for a specific modeling purpose. The 4 cleaned datasets were as follows:\n",
    "1. Top 5 Ranked Countries By GDP and Their Yearly GDP in Dollars\n",
    "2. Top 5 Ranked Countries By GDP and With Yearly Associated political, Environmental, Financial, and Health data\n",
    "3. USA GDP and GDP Percent Change, Yearly Since 1961\n",
    "4. USA GDP and GDP Percent Change, Yearly Since 1980 With Associated political, Environmental, Financial, and Health data\n",
    " "
   ]
  },
  {
   "cell_type": "markdown",
   "metadata": {},
   "source": [
    "**Modeling**\n",
    "\n",
    "GDP Prediction Modeling Notebook\n",
    "***\n",
    "\"GDP Prediction Modeling Notebook\" explores the following question: how accurately can I predict GDP of a country, without knowing the country name, based solely on political, environmental, financial, and health data? I used the cleaned data set that includes political, environmental, financial, and health data for the 5 countries with the highest GDP in 2018. I stripped away the country name and randomized the order of the training and testing data. I then created a generalized prediction model that can predict GDP in dollars for different countries solely based on metrics collected for the country in that given year. Furthermore, I used interpretability from my linear regression model to show the relative weight of each feature in my datset for predicting GDP in my generalized model.\n",
    "\n",
    "● Models Used:\n",
    "\n",
    "    ○ Basic Linear regression\n",
    "\n",
    "    ○ Random Forest With Extra Trees\n",
    "\n",
    "    ○ Neural Network\n",
    "Time Series Forecasting Notebook (USA GDP)\n",
    "***\n",
    "\"Time Series Forecasting Notebook (USA GDP)\" explores the following question: for the USA, how accurately can I forecast GDP by percent change and GDP in dollars? I used the cleaned data set that includes information on USA GDP in dollars and GDP percent change, yearly since 1961. I also used the cleaned data set that includes information on USA GDP and GDP percent change, yearly since 1980 with associated political, environmental, financial, and health data. I displayed impact on GDP of each feature when forecasting with political, environmental, financial, and health metrics.\n",
    "\n",
    "● Models Used:\n",
    "    \n",
    "    ○ Sarima out of sample predictions (predicting final 20% of GDP data)\n",
    "    ○ Sarima out of sample predictions (predicting 1 year ahead at a time for                   final 20% of GDP data)\n",
    "    ○ Sarima In Sample Forecast With Added Yearly Political, Environmental,\n",
    "    Financial, and Health Metrics\n",
    "    ○ FB Prophet Model (In Sample)\n",
    " \n",
    " \n",
    "\n",
    " "
   ]
  },
  {
   "cell_type": "markdown",
   "metadata": {},
   "source": [
    "**Key results from modeling**: \n",
    "\n",
    "How accurately can I predict GDP of a country, without knowing the country name, based solely on political, environmental, financial, and health data? Note that this dataset is predicting on data for countries that had the highest 5 GDP's in 2018.\n",
    "    \n",
    "   ○ Top scoring generalized prediction model was a random forest with extra trees: \n",
    "    \n",
    "    ■ Achieved an R2 score of 99.5% (strong predictive power)\n",
    "    ■ Achieved an average error of 270 Billion Dollars (GDP from my dataset is             typically in the trillions)\n",
    "   ○ Most important features to generalized GDP prediction according to my interpretable linear model:\n",
    "    \n",
    "    ■ Fertility Rate, total births per woman\n",
    "    ■ CO2 emissions (metric tons per capita)\n",
    "    ■ Prevalence of overweight (% of adults)\n",
    "    ■ Mortality rate, under-5 (per 1,000 live births)\n",
    " ***\n",
    "For the USA, how accurately can I forecast GDP in dollars? \n",
    "\n",
    "○ Out Of Sample  Sarima Predictions 1 Year Ahead At A Time:\n",
    "    \n",
    "    ■ Achieved an R2 score of 97% (strong predictive power)\n",
    "    ■ Achieved an average Error Of 379 Billion Dollars\n",
    " \n",
    " ○ In Sample Sarima Forecast With Added Features: \n",
    "     \n",
    "    ■ Achieved an R2 score of 99.3% (strong predictive power)\n",
    "    ■ Achieved an average error of 104 Billion Dollars\n",
    "    *Note that in sample forecasts are useful for understanding the                 predictive power of a model but in the real world you will never have full                    knowledge of future exogenous variables\n",
    "        \n",
    "    ● Most Important Features to GDP Prediction\n",
    "        ■ Fertility Rate, total births per woman\n",
    "        ■ Population density (people per sq. km of land area)\n",
    "        ■ Prevalence of overweight (% of adults)\n",
    "        ■ Date\n",
    "        ■ CO2 emissions (metric tons per capita)\n",
    " \n",
    "***\n",
    "For the USA, how accurately can I forecast GDP by percent change?\n",
    "\n",
    "○ In Sample Forecast With Added Features (USA GDP Percent Change)\n",
    "    \n",
    "    ■ Achieved an R2 score of 99.7% (strong predictive power)\n",
    "    ■ Achieved an average error of average 8% off GDP percent change\n",
    "    *Note that in sample forecasts are useful for understanding the                 predictive power of a model but in the real world you will never have full                    knowledge of future exogenous variables\n",
    "        \n",
    "    ● Most Important Features to GDP Prediction (Percent Change)\n",
    "        ■ Population ages 65 and above (% of total population)\n",
    "        ■ Hospital beds (per 1,000 people)\n",
    "        ■ Mortality rate, under-5 (per 1,000 live births)\n",
    "        ■ Fertility rate, total (births per woman)\n",
    "        ■ Population density (people per sq. km of land area)\n",
    " \n",
    " \n",
    " \n",
    " "
   ]
  },
  {
   "cell_type": "markdown",
   "metadata": {},
   "source": [
    "**Takeaways and Next Steps For Modeling**:\n",
    "\n",
    "*Generalized Model Takeaways and Next Steps:*\n",
    "***\n",
    "My generalized model for predicting GDP of any country based on political, environmental, financial,and health data was created using the countries with the top 5 GDP’s in 2018. To best predict GDP with a generalizable model I recommend using a random forest with extra trees model. To improve this model and create a model that can truly generalize to many country types, I recommend including data from a myriad of countries with high, middle and low GDP’s. This would also give more robust information about what metrics a country can focus on in order to increase their overal GDP. \n",
    "\n",
    "\n",
    "\n",
    "\n",
    "*USA GDP Forecasting Takeaways and Next Steps:*\n",
    "***\n",
    "\n",
    "To best forecast future GDP for the USA I suggest predicting one year in advance at a time and including political, environmental, financial, and health data. Given that you cannot truly know political, environmental, financial, and health metrics for years in the future I suggest forecasting each of these features based on past data. Then I suggest feeding those predictions into your forecasting model for USA GDP. This next step would be somewhat intensive but I predict that it would provide better results than forecasting without exogenous variables.\n",
    " "
   ]
  }
 ],
 "metadata": {
  "kernelspec": {
   "display_name": "Python 3",
   "language": "python",
   "name": "python3"
  },
  "language_info": {
   "codemirror_mode": {
    "name": "ipython",
    "version": 3
   },
   "file_extension": ".py",
   "mimetype": "text/x-python",
   "name": "python",
   "nbconvert_exporter": "python",
   "pygments_lexer": "ipython3",
   "version": "3.8.5"
  }
 },
 "nbformat": 4,
 "nbformat_minor": 4
}
