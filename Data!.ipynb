{
 "cells": [
  {
   "cell_type": "markdown",
   "metadata": {},
   "source": [
    "## Data Acquisition!\n",
    "\n",
    "We're going to briefly talk about different places you can gather data from for your Capstone Project. "
   ]
  },
  {
   "cell_type": "markdown",
   "metadata": {},
   "source": [
    "#### City Data Portals:\n",
    "- Chicago: https://data.cityofchicago.org/\n",
    "- New York: https://opendata.cityofnewyork.us/"
   ]
  },
  {
   "cell_type": "markdown",
   "metadata": {},
   "source": [
    "#### Federal/Gov Sources:\n",
    "\n",
    "- data.gov\n",
    "- FBI Data: https://www.fbi.gov/services/cjis/ucr\n",
    "- US Census Bureau: https://www.census.gov/\n",
    "- Bureau of Labor: https://www.bls.gov/data/"
   ]
  },
  {
   "cell_type": "markdown",
   "metadata": {},
   "source": [
    "#### Data Specific Websites:\n",
    "- Kaggle: https://www.kaggle.com/\n",
    "- Dataworld: https://data.world/"
   ]
  },
  {
   "cell_type": "markdown",
   "metadata": {},
   "source": [
    "#### Websites with APIs:\n",
    "   - Yelp\n",
    "   - Twitter\n",
    "   - IMDB\n",
    "   - Spotify\n",
    "   - Facebook\n",
    "   \n",
    "- https://rapidapi.com/blog/most-popular-api/"
   ]
  },
  {
   "cell_type": "markdown",
   "metadata": {},
   "source": [
    "#### Articles with more links/datasets:\n",
    "\n",
    "- https://www.interviewqs.com/blog/free-online-data-sets\n",
    "- https://medium.com/@ODSC/20-open-datasets-for-natural-language-processing-538fbfaf8e38\n"
   ]
  },
  {
   "cell_type": "markdown",
   "metadata": {},
   "source": [
    "#### Google to the rescue!\n",
    "\n",
    "https://datasetsearch.research.google.com/"
   ]
  },
  {
   "cell_type": "code",
   "execution_count": null,
   "metadata": {},
   "outputs": [],
   "source": []
  },
  {
   "cell_type": "code",
   "execution_count": null,
   "metadata": {},
   "outputs": [],
   "source": []
  }
 ],
 "metadata": {
  "kernelspec": {
   "display_name": "Python 3",
   "language": "python",
   "name": "python3"
  },
  "language_info": {
   "codemirror_mode": {
    "name": "ipython",
    "version": 3
   },
   "file_extension": ".py",
   "mimetype": "text/x-python",
   "name": "python",
   "nbconvert_exporter": "python",
   "pygments_lexer": "ipython3",
   "version": "3.6.8"
  }
 },
 "nbformat": 4,
 "nbformat_minor": 2
}
